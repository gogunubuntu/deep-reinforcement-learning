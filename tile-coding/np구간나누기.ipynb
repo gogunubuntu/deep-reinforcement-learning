{
 "cells": [
  {
   "cell_type": "markdown",
   "source": [
    "# 요약\n",
    "- `np.arange(start, end, delta)` : start부터 end까지 delta만큼 더해가면서 나눔.\n",
    "- `np.linspace(a, b, n)` : a부터 b까지를 균등하게 n개로 나눔. \n",
    "- `np.bincount(양의 정수로 이뤄진 container)` : 각 수가 몇개 있는지 해당하는 index에 그 갯수를 넣어서 반환 \n",
    "- `np.digitize()` : 구간을 나눠서 mapping. \n",
    "- `np.histogram()` : 각 구간별로 몇개씩 있는지 알려준다"
   ],
   "metadata": {}
  },
  {
   "cell_type": "code",
   "execution_count": 1,
   "source": [
    "import numpy as np\n",
    "import matplotlib.pyplot as plt"
   ],
   "outputs": [],
   "metadata": {}
  },
  {
   "cell_type": "markdown",
   "source": [
    "## np.arange(start, end, $\\delta$)\n",
    "---\n",
    "- output : `[start, start + $\\delta$, start + 2*$\\delta$ ... ]` (절대 end를 넘지 않음)\n",
    "- 끝값을 포함시키고 싶다면? end값을 end + $\\delta$ - $\\epsilon$로 두고 사용. "
   ],
   "metadata": {}
  },
  {
   "cell_type": "code",
   "execution_count": 16,
   "source": [
    "np.arange(-1, 1, 0.1)"
   ],
   "outputs": [
    {
     "output_type": "execute_result",
     "data": {
      "text/plain": [
       "array([-1.00000000e+00, -9.00000000e-01, -8.00000000e-01, -7.00000000e-01,\n",
       "       -6.00000000e-01, -5.00000000e-01, -4.00000000e-01, -3.00000000e-01,\n",
       "       -2.00000000e-01, -1.00000000e-01, -2.22044605e-16,  1.00000000e-01,\n",
       "        2.00000000e-01,  3.00000000e-01,  4.00000000e-01,  5.00000000e-01,\n",
       "        6.00000000e-01,  7.00000000e-01,  8.00000000e-01,  9.00000000e-01])"
      ]
     },
     "metadata": {},
     "execution_count": 16
    }
   ],
   "metadata": {}
  },
  {
   "cell_type": "code",
   "execution_count": 17,
   "source": [
    "start = 0\n",
    "end = 10\n",
    "delta = 1\n",
    "epsilon = 1e-1\n",
    "print(f\"end = end : {np.arange(start, end, delta)}\")\n",
    "print(f\"end = end + epsilon: {np.arange(start, end+delta-epsilon, delta)}\")\n"
   ],
   "outputs": [
    {
     "output_type": "stream",
     "name": "stdout",
     "text": [
      "end = end : [0 1 2 3 4 5 6 7 8 9]\n",
      "end = end + epsilon: [ 0.  1.  2.  3.  4.  5.  6.  7.  8.  9. 10.]\n"
     ]
    }
   ],
   "metadata": {}
  },
  {
   "cell_type": "markdown",
   "source": [
    "## np.linspace(start, end, n)\n",
    "---\n",
    "- output : n개의 split point **(`start`, `end` 포함)**"
   ],
   "metadata": {}
  },
  {
   "cell_type": "code",
   "execution_count": 20,
   "source": [
    "start = 0\n",
    "end = 10\n",
    "n = 3\n",
    "np.linspace(start, end, n)"
   ],
   "outputs": [
    {
     "output_type": "execute_result",
     "data": {
      "text/plain": [
       "array([ 0.,  5., 10.])"
      ]
     },
     "metadata": {},
     "execution_count": 20
    }
   ],
   "metadata": {}
  },
  {
   "cell_type": "markdown",
   "source": [
    "## np.bincount(inteagers)\n",
    "---\n",
    "- 정수가 나타난 횟수를 정수형 np.array의 각 인덱스에 집어넣고 반환\n"
   ],
   "metadata": {}
  },
  {
   "cell_type": "code",
   "execution_count": 70,
   "source": [
    "from random import shuffle\n",
    "a = []\n",
    "for i in range(1, 5 + 1) : \n",
    "    a += i*[i]\n",
    "shuffle(a)\n",
    "print(f\"input : {a} , {type(a)}\")\n",
    "print(f\"output : {np.bincount(a)}, {type(np.bincount(a))}\")"
   ],
   "outputs": [
    {
     "output_type": "stream",
     "name": "stdout",
     "text": [
      "input : [2, 4, 5, 3, 4, 3, 5, 4, 5, 2, 3, 5, 1, 5, 4] , <class 'list'>\n",
      "output : [0 1 2 3 4 5], <class 'numpy.ndarray'>\n"
     ]
    }
   ],
   "metadata": {}
  },
  {
   "cell_type": "markdown",
   "source": [
    "## np.digitize(numbers, grid)\n",
    "---\n",
    "- grid에 맞게 numbers를 digitize해서 0, 1, 2, ... 이렇게 grid에 맟게 숫자를 다시 할당 \n",
    "- n이 grid의 범위보다 작을경우 : 0\n",
    "- 그 외의 경우(n이 grid의 범위 안에 있거나 더 큰 경우) : 왼쪽 수의 순서에 맞춤\n",
    "- grid와 input의 차원을 맞춰줘야함(grid가 n개의 vector : input은 n개의 원소로 이뤄진 좌표)"
   ],
   "metadata": {}
  },
  {
   "cell_type": "code",
   "execution_count": 48,
   "source": [
    "grid = np.arange(0, 100 + epsilon, 10)\n",
    "print(f\"grid : {grid}\")\n",
    "numbers = grid+1\n",
    "print(f\"input : grid + 1 ({numbers})\\noutput : {np.digitize(numbers, grid)}\\n\")\n",
    "numbers = grid-1\n",
    "print(f\"input : grid - 1 ({numbers})\\noutput : {np.digitize(numbers, grid)}\\n\")\n",
    "n = -9999\n",
    "print(f\"input : -9999\\noutput : {np.digitize(n, grid)}\\n\")\n",
    "n = +9999\n",
    "print(f\"input : +9999\\noutput : {np.digitize(n, grid)}\\n\")\n",
    "\n"
   ],
   "outputs": [
    {
     "output_type": "stream",
     "name": "stdout",
     "text": [
      "grid : [  0.  10.  20.  30.  40.  50.  60.  70.  80.  90. 100.]\n",
      "input : grid + 1 ([  1.  11.  21.  31.  41.  51.  61.  71.  81.  91. 101.])\n",
      "output : [ 1  2  3  4  5  6  7  8  9 10 11]\n",
      "\n",
      "input : grid - 1 ([-1.  9. 19. 29. 39. 49. 59. 69. 79. 89. 99.])\n",
      "output : [ 0  1  2  3  4  5  6  7  8  9 10]\n",
      "\n",
      "input : -9999\n",
      "output : 0\n",
      "\n",
      "input : +9999\n",
      "output : 11\n",
      "\n"
     ]
    }
   ],
   "metadata": {}
  },
  {
   "cell_type": "markdown",
   "source": [
    "### input의 원소가 n차원 인 경우\n",
    "\n",
    "- 각 값들을 모두 digitize한 뒤 반환"
   ],
   "metadata": {}
  },
  {
   "cell_type": "code",
   "execution_count": 60,
   "source": [
    "grid = np.arange(0, 100 + epsilon, 10)\n",
    "print(grid)\n",
    "numbers = np.array([(i,i) for i in range(0, 100+1, 10)])\n",
    "print(numbers)\n",
    "print(np.digitize(numbers, grid))"
   ],
   "outputs": [
    {
     "output_type": "stream",
     "name": "stdout",
     "text": [
      "[  0.  10.  20.  30.  40.  50.  60.  70.  80.  90. 100.]\n",
      "[[  0   0]\n",
      " [ 10  10]\n",
      " [ 20  20]\n",
      " [ 30  30]\n",
      " [ 40  40]\n",
      " [ 50  50]\n",
      " [ 60  60]\n",
      " [ 70  70]\n",
      " [ 80  80]\n",
      " [ 90  90]\n",
      " [100 100]]\n",
      "[[ 1  1]\n",
      " [ 2  2]\n",
      " [ 3  3]\n",
      " [ 4  4]\n",
      " [ 5  5]\n",
      " [ 6  6]\n",
      " [ 7  7]\n",
      " [ 8  8]\n",
      " [ 9  9]\n",
      " [10 10]\n",
      " [11 11]]\n"
     ]
    }
   ],
   "metadata": {}
  },
  {
   "cell_type": "markdown",
   "source": [
    "### input의 원소가 n차원이고 각 차원에 해당하는 값을 다른 grid로 digitize하고 싶다면? "
   ],
   "metadata": {}
  },
  {
   "cell_type": "code",
   "execution_count": 69,
   "source": [
    "sample = [1.1, 5, 9]\n",
    "print(f\"sample : {sample}\")\n",
    "\n",
    "a = np.linspace(1, 10, 10) \n",
    "print(f\"a : {a}\")\n",
    "b = np.linspace(1, 8, 5)\n",
    "print(f\"b : {b}\")\n",
    "c = np.linspace(1, 6, 9)\n",
    "print(f\"c : {c}\")\n",
    "\n",
    "grid = [a, b, c]\n",
    "tuple(int(np.digitize(s, g)) for s, g in zip(sample, grid))  # apply along each dimension"
   ],
   "outputs": [
    {
     "output_type": "stream",
     "name": "stdout",
     "text": [
      "sample : [1.1, 5, 9]\n",
      "a : [ 1.  2.  3.  4.  5.  6.  7.  8.  9. 10.]\n",
      "b : [1.   2.75 4.5  6.25 8.  ]\n",
      "c : [1.    1.625 2.25  2.875 3.5   4.125 4.75  5.375 6.   ]\n"
     ]
    },
    {
     "output_type": "execute_result",
     "data": {
      "text/plain": [
       "(1, 3, 9)"
      ]
     },
     "metadata": {},
     "execution_count": 69
    }
   ],
   "metadata": {}
  },
  {
   "cell_type": "markdown",
   "source": [
    "## np.histogram(x, bins=10)\n",
    "- output : (a ,b)각 구간에 해당하는 원소가 x에 몇개 있는지 a에 넣어서 반환하고, a를 도출해 낸 구간을 반환함\n",
    "\n",
    "- bins가 정수인 경우 : a의 max값과 min값을 보고 n개의 균등한 구간을 나눠서 histogram을 반환(default : 10)\n",
    "- bins가 list, array 등등인 경우 : 거기에 맞게 histogram을 반환 "
   ],
   "metadata": {}
  },
  {
   "cell_type": "code",
   "execution_count": 75,
   "source": [
    "a, b = np.histogram([1,5,11])\n",
    "print(a)\n",
    "print(b)"
   ],
   "outputs": [
    {
     "output_type": "stream",
     "name": "stdout",
     "text": [
      "[1 0 0 0 1 0 0 0 0 1]\n",
      "[ 1.  2.  3.  4.  5.  6.  7.  8.  9. 10. 11.]\n"
     ]
    }
   ],
   "metadata": {}
  },
  {
   "cell_type": "code",
   "execution_count": 78,
   "source": [
    "bins = np.linspace(1, 10, 10)\n",
    "x = [1, 2,2, 3,3,3, 4,4,4,4, 5,5,5,5,5]\n",
    "a, b = np.histogram(x, bins = bins)\n",
    "print(a)\n",
    "print(b)"
   ],
   "outputs": [
    {
     "output_type": "stream",
     "name": "stdout",
     "text": [
      "[1 2 3 4 5 0 0 0 0]\n",
      "[ 1.  2.  3.  4.  5.  6.  7.  8.  9. 10.]\n"
     ]
    }
   ],
   "metadata": {}
  }
 ],
 "metadata": {
  "orig_nbformat": 4,
  "language_info": {
   "name": "python",
   "version": "3.6.13",
   "mimetype": "text/x-python",
   "codemirror_mode": {
    "name": "ipython",
    "version": 3
   },
   "pygments_lexer": "ipython3",
   "nbconvert_exporter": "python",
   "file_extension": ".py"
  },
  "kernelspec": {
   "name": "python3",
   "display_name": "Python 3.6.13 64-bit ('drlnd': conda)"
  },
  "interpreter": {
   "hash": "806277ad10f6288e45e02d3e2184572cc98513f4b7f6535fc8981299374e19b2"
  }
 },
 "nbformat": 4,
 "nbformat_minor": 2
}